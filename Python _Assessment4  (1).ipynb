{
 "cells": [
  {
   "cell_type": "code",
   "execution_count": null,
   "metadata": {},
   "outputs": [],
   "source": [
    "#1.1 Write a Python Program(with class concepts) to find the area of the triangle using the below formula. area = (s*(s-a)*(s-b)*(s-c)) ** 0.5 Function to take the length of the sides of triangle from user should be defined in the parent class and function to calculate the area should be defined in subclass.\n"
   ]
  },
  {
   "cell_type": "code",
   "execution_count": 2,
   "metadata": {},
   "outputs": [
    {
     "name": "stdout",
     "output_type": "stream",
     "text": [
      "Enter the length of side oa triangle a: \n",
      " 5\n",
      "Enter the length of side oa triangle b: \n",
      "7.6\n",
      "Enter the length of side oa triangle c: \n",
      "8.4\n",
      "Area of Triangle is : 18.75359965446634\n"
     ]
    }
   ],
   "source": [
    "class area1:\n",
    "    def __init__(self,a,b,c):\n",
    "        self.a=a\n",
    "        self.b=b\n",
    "        self.c=c\n",
    "        \n",
    "   \n",
    "a=float(input(\"Enter the length of side oa triangle a: \\n \"))\n",
    "b=float(input(\"Enter the length of side oa triangle b: \\n\"))\n",
    "c=float(input(\"Enter the length of side oa triangle c: \\n\"))\n",
    "class aTriangle(area1):\n",
    "    def ar(self):\n",
    "        s=(a+b+c)/2\n",
    "        return float((s*(s-a)*(s-b)*(s-c))**0.5)\n",
    "        \n",
    "        \n",
    "\n",
    "area_of_triangle= aTriangle(a,b,c)\n",
    "print(\"Area of Triangle is :\" ,area_of_triangle.ar())\n",
    "        \n",
    "\n",
    "    "
   ]
  },
  {
   "cell_type": "code",
   "execution_count": null,
   "metadata": {},
   "outputs": [],
   "source": [
    "#1.2 Write a function filter_long_words() that takes a list of words and an integer n and returns the list of words that are longer than n"
   ]
  },
  {
   "cell_type": "code",
   "execution_count": 7,
   "metadata": {},
   "outputs": [
    {
     "name": "stdout",
     "output_type": "stream",
     "text": [
      "Enter list of words :money goal wish career set swag hope\n",
      "Enter integer:4\n",
      "Words longer than 4 are money, career.\n"
     ]
    }
   ],
   "source": [
    "def filter_long_words(lst,n):\n",
    "    return (word for word in lst if len(word)>n)\n",
    "\n",
    "lst=input(\"Enter list of words :\").split()\n",
    "n=int(input(\"Enter integer:\"))\n",
    "print(\"Words longer than {} are {}.\".format(n,', '.join(filter_long_words(lst,n))))"
   ]
  },
  {
   "cell_type": "code",
   "execution_count": null,
   "metadata": {},
   "outputs": [],
   "source": [
    "#2.1 Write a Python program using function concept that maps list of words into a list of integers representing the lengths of the corresponding words.\n",
    "#Hint: If a list [ ab,cde,erty] is passed on to the python function output should come as [2,3,4]\n",
    "#Here 2,3 and 4 are the lengths of the words in the list."
   ]
  },
  {
   "cell_type": "code",
   "execution_count": 1,
   "metadata": {},
   "outputs": [
    {
     "name": "stdout",
     "output_type": "stream",
     "text": [
      "mock swap money bright big small happy \n",
      "length of words in list : [4, 4, 5, 6, 3, 5, 5]\n"
     ]
    }
   ],
   "source": [
    "def test(l):\n",
    "    return list(map(len, l))\n",
    "l= list(input().strip().split())\n",
    "w=test(l)\n",
    "print(\"length of words in list :\",w)\n",
    "\n"
   ]
  },
  {
   "cell_type": "code",
   "execution_count": null,
   "metadata": {},
   "outputs": [],
   "source": [
    "#2.2 Write a Python function which takes a character (i.e. a string of length 1) and returns True if it is a vowel, False otherwise."
   ]
  },
  {
   "cell_type": "code",
   "execution_count": 1,
   "metadata": {},
   "outputs": [
    {
     "name": "stdout",
     "output_type": "stream",
     "text": [
      "Enter a alphabet:hgs\n",
      "Enter single letter alphabet\n",
      "Enter a alphabet:A\n",
      "True\n"
     ]
    }
   ],
   "source": [
    "def vowel():\n",
    "    while True:\n",
    "        try:\n",
    "            v = input(\"Enter a alphabet:\")\n",
    "            if len(v) == 1:\n",
    "                if v.lower() in \"aeiou\":\n",
    "                    return True\n",
    "\n",
    "                elif v.upper() in \"AEIOU\":\n",
    "                    return False\n",
    "\n",
    "                else:\n",
    "                    return False\n",
    "            else:\n",
    "                print(\"Enter single letter alphabet\")\n",
    "\n",
    "        except:\n",
    "            print(\"valid single alphabet:\")\n",
    "            continue\n",
    "x=vowel()\n",
    "print(x)"
   ]
  },
  {
   "cell_type": "code",
   "execution_count": null,
   "metadata": {},
   "outputs": [],
   "source": []
  },
  {
   "cell_type": "code",
   "execution_count": null,
   "metadata": {},
   "outputs": [],
   "source": []
  }
 ],
 "metadata": {
  "kernelspec": {
   "display_name": "Python 3",
   "language": "python",
   "name": "python3"
  },
  "language_info": {
   "codemirror_mode": {
    "name": "ipython",
    "version": 3
   },
   "file_extension": ".py",
   "mimetype": "text/x-python",
   "name": "python",
   "nbconvert_exporter": "python",
   "pygments_lexer": "ipython3",
   "version": "3.8.3"
  }
 },
 "nbformat": 4,
 "nbformat_minor": 4
}
